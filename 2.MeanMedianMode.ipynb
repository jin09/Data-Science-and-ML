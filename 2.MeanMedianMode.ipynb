{
 "cells": [
  {
   "cell_type": "markdown",
   "metadata": {
    "deletable": true,
    "editable": true
   },
   "source": [
    "# Mean, Median, Mode, and introducing NumPy"
   ]
  },
  {
   "cell_type": "markdown",
   "metadata": {
    "deletable": true,
    "editable": true
   },
   "source": [
    "## Mean vs. Median"
   ]
  },
  {
   "cell_type": "markdown",
   "metadata": {
    "deletable": true,
    "editable": true
   },
   "source": [
    "Let's create some fake income data, centered around 27,000 with a normal distribution and standard deviation of 15,000, with 10,000 data points. (We'll discuss those terms more later, if you're not familiar with them.)\n",
    "\n",
    "Then, compute the mean (average) - it should be close to 27,000:"
   ]
  },
  {
   "cell_type": "code",
   "execution_count": 7,
   "metadata": {
    "collapsed": false,
    "deletable": true,
    "editable": true
   },
   "outputs": [
    {
     "data": {
      "text/plain": [
       "27238.070846363647"
      ]
     },
     "execution_count": 7,
     "metadata": {},
     "output_type": "execute_result"
    }
   ],
   "source": [
    "import numpy as np\n",
    "\n",
    "incomes = np.random.normal(27000, 15000, 10000)\n",
    "np.mean(incomes)"
   ]
  },
  {
   "cell_type": "markdown",
   "metadata": {
    "deletable": true,
    "editable": true
   },
   "source": [
    "We can segment the income data into 50 buckets, and plot it as a histogram:"
   ]
  },
  {
   "cell_type": "code",
   "execution_count": 8,
   "metadata": {
    "collapsed": false,
    "deletable": true,
    "editable": true
   },
   "outputs": [
    {
     "data": {
      "image/png": "[encoded data removed]",
      "text/plain": [
       "<matplotlib.figure.Figure at 0x7fdf2cc84390>"
      ]
     },
     "metadata": {},
     "output_type": "display_data"
    }
   ],
   "source": [
    "%matplotlib inline\n",
    "import matplotlib.pyplot as plt\n",
    "plt.hist(incomes, 50)\n",
    "plt.show()"
   ]
  },
  {
   "cell_type": "markdown",
   "metadata": {
    "deletable": true,
    "editable": true
   },
   "source": [
    "Now compute the median - since we have a nice, even distribution it too should be close to 27,000:"
   ]
  },
  {
   "cell_type": "code",
   "execution_count": 9,
   "metadata": {
    "collapsed": false,
    "deletable": true,
    "editable": true
   },
   "outputs": [
    {
     "data": {
      "text/plain": [
       "27160.238345589743"
      ]
     },
     "execution_count": 9,
     "metadata": {},
     "output_type": "execute_result"
    }
   ],
   "source": [
    "np.median(incomes)"
   ]
  },
  {
   "cell_type": "markdown",
   "metadata": {
    "deletable": true,
    "editable": true
   },
   "source": [
    "Now we'll add Donald Trump into the mix. Darn income inequality!"
   ]
  },
  {
   "cell_type": "code",
   "execution_count": 10,
   "metadata": {
    "collapsed": false,
    "deletable": true,
    "editable": true
   },
   "outputs": [],
   "source": [
    "incomes = np.append(incomes, [1000000000])"
   ]
  },
  {
   "cell_type": "markdown",
   "metadata": {
    "deletable": true,
    "editable": true
   },
   "source": [
    "The median won't change much, but the mean does:"
   ]
  },
  {
   "cell_type": "code",
   "execution_count": 11,
   "metadata": {
    "collapsed": false,
    "deletable": true,
    "editable": true
   },
   "outputs": [
    {
     "data": {
      "text/plain": [
       "27161.542793249348"
      ]
     },
     "execution_count": 11,
     "metadata": {},
     "output_type": "execute_result"
    }
   ],
   "source": [
    "np.median(incomes)"
   ]
  },
  {
   "cell_type": "code",
   "execution_count": 12,
   "metadata": {
    "collapsed": false,
    "deletable": true,
    "editable": true
   },
   "outputs": [
    {
     "data": {
      "text/plain": [
       "127225.34831153249"
      ]
     },
     "execution_count": 12,
     "metadata": {},
     "output_type": "execute_result"
    }
   ],
   "source": [
    "np.mean(incomes)"
   ]
  },
  {
   "cell_type": "markdown",
   "metadata": {
    "deletable": true,
    "editable": true
   },
   "source": [
    "## Mode"
   ]
  },
  {
   "cell_type": "markdown",
   "metadata": {
    "deletable": true,
    "editable": true
   },
   "source": [
    "Next, let's generate some fake age data for 500 people:"
   ]
  },
  {
   "cell_type": "code",
   "execution_count": 13,
   "metadata": {
    "collapsed": false,
    "deletable": true,
    "editable": true
   },
   "outputs": [
    {
     "data": {
      "text/plain": [
       "array([66, 40, 79, 64, 70, 19, 63, 76, 49, 52, 72, 70, 25, 62, 69, 54, 26,\n",
       "       36, 49, 53, 66, 22, 79, 55, 75, 55, 73, 31, 89, 21, 87, 60, 25, 56,\n",
       "       70, 72, 29, 35, 67, 53, 32, 49, 63, 23, 18, 66, 74, 34, 30, 65, 56,\n",
       "       63, 36, 60, 81, 54, 36, 27, 22, 83, 86, 54, 32, 39, 43, 27, 63, 32,\n",
       "       56, 48, 30, 77, 74, 76, 36, 56, 24, 29, 58, 30, 89, 52, 88, 82, 33,\n",
       "       70, 73, 47, 51, 63, 59, 31, 81, 24, 20, 47, 86, 70, 52, 40, 84, 26,\n",
       "       71, 40, 44, 48, 73, 70, 78, 58, 30, 61, 69, 67, 71, 70, 25, 48, 21,\n",
       "       77, 78, 58, 69, 40, 76, 88, 78, 65, 58, 64, 31, 56, 81, 64, 64, 27,\n",
       "       80, 88, 78, 83, 58, 51, 48, 19, 75, 71, 89, 70, 49, 72, 53, 54, 61,\n",
       "       32, 70, 25, 56, 21, 82, 69, 76, 52, 81, 73, 54, 18, 54, 78, 32, 46,\n",
       "       73, 47, 85, 85, 48, 64, 80, 65, 18, 19, 67, 63, 63, 56, 71, 71, 22,\n",
       "       48, 80, 76, 74, 64, 36, 82, 30, 79, 18, 79, 79, 35, 87, 68, 67, 20,\n",
       "       36, 57, 32, 71, 41, 66, 79, 56, 44, 20, 86, 19, 62, 19, 76, 32, 27,\n",
       "       49, 75, 71, 74, 29, 42, 70, 80, 57, 26, 82, 61, 49, 54, 58, 81, 22,\n",
       "       54, 72, 84, 30, 48, 36, 19, 63, 71, 20, 71, 20, 82, 25, 66, 43, 69,\n",
       "       21, 79, 29, 43, 44, 75, 73, 73, 60, 54, 22, 21, 27, 67, 71, 51, 87,\n",
       "       84, 62, 76, 73, 49, 58, 67, 78, 26, 85, 24, 59, 21, 84, 27, 50, 87,\n",
       "       82, 74, 31, 55, 89, 76, 84, 42, 87, 35, 74, 70, 51, 31, 64, 37, 19,\n",
       "       33, 61, 84, 77, 79, 51, 64, 41, 87, 43, 19, 67, 71, 78, 19, 18, 20,\n",
       "       67, 76, 29, 53, 36, 60, 35, 63, 43, 64, 24, 79, 82, 66, 55, 88, 73,\n",
       "       46, 79, 29, 49, 42, 59, 59, 64, 23, 29, 57, 88, 78, 43, 70, 50, 88,\n",
       "       83, 74, 52, 84, 34, 80, 58, 22, 81, 86, 23, 66, 50, 75, 35, 69, 61,\n",
       "       45, 87, 19, 44, 43, 70, 43, 42, 22, 73, 82, 67, 52, 33, 23, 28, 83,\n",
       "       61, 74, 27, 19, 83, 43, 79, 27, 82, 18, 86, 43, 23, 72, 33, 65, 79,\n",
       "       25, 58, 55, 71, 29, 72, 29, 75, 82, 20, 74, 54, 28, 68, 64, 50, 80,\n",
       "       29, 45, 85, 69, 44, 74, 62, 82, 80, 77, 54, 34, 53, 38, 78, 26, 53,\n",
       "       20, 44, 65, 48, 77, 31, 28, 30, 84, 56, 64, 62, 84, 41, 42, 47, 31,\n",
       "       74, 53, 26, 33, 39, 88, 88, 75, 68, 26, 22, 63, 86, 60, 66, 45, 69,\n",
       "       29, 87, 70, 82, 74, 87, 31, 83, 26, 76, 39, 61, 80, 60, 89, 26, 87,\n",
       "       65, 35, 40, 73, 76, 85, 87])"
      ]
     },
     "execution_count": 13,
     "metadata": {},
     "output_type": "execute_result"
    }
   ],
   "source": [
    "ages = np.random.randint(18, high=90, size=500)\n",
    "ages"
   ]
  },
  {
   "cell_type": "code",
   "execution_count": 14,
   "metadata": {
    "collapsed": false,
    "deletable": true,
    "editable": true
   },
   "outputs": [
    {
     "data": {
      "text/plain": [
       "ModeResult(mode=array([70]), count=array([14]))"
      ]
     },
     "execution_count": 14,
     "metadata": {},
     "output_type": "execute_result"
    }
   ],
   "source": [
    "from scipy import stats\n",
    "stats.mode(ages)"
   ]
  },
  {
   "cell_type": "code",
   "execution_count": null,
   "metadata": {
    "collapsed": false,
    "deletable": true,
    "editable": true
   },
   "outputs": [],
   "source": []
  }
 ],
 "metadata": {
  "kernelspec": {
   "display_name": "Python 2",
   "language": "python",
   "name": "python2"
  },
  "language_info": {
   "codemirror_mode": {
    "name": "ipython",
    "version": 2
   },
   "file_extension": ".py",
   "mimetype": "text/x-python",
   "name": "python",
   "nbconvert_exporter": "python",
   "pygments_lexer": "ipython2",
   "version": "2.7.13"
  }
 },
 "nbformat": 4,
 "nbformat_minor": 0
}
